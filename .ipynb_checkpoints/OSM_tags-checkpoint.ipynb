{
 "cells": [
  {
   "cell_type": "markdown",
   "id": "abf3cb24-1348-416e-a2bc-e3301ab48357",
   "metadata": {},
   "source": [
    "# Extracting OpenStreetMap tags using Ohsome API "
   ]
  },
  {
   "cell_type": "markdown",
   "id": "03f0f992-435f-449e-8815-8ef5b111b2a0",
   "metadata": {},
   "source": [
    "OpenStreetMap (OSM) is a global platform that provides free geo-data of the world. OSM is licensed under the Open Data License (ODbL). it contains vector collections comprising of nodes (points), ways (lines) and ways & relations (polygons). Each feature have at least one tag/attribute describing it. \n",
    "\n",
    "We explore tags and relations in OSM that can be used to create training data deprivation mapping. "
   ]
  },
  {
   "cell_type": "code",
   "execution_count": 1,
   "id": "9bdbda33-b9be-413f-81d2-f90548c2c4ce",
   "metadata": {},
   "outputs": [],
   "source": [
    "# Import libraries \n",
    "import requests \n",
    "import pandas as pd\n",
    "import json"
   ]
  },
  {
   "cell_type": "code",
   "execution_count": 2,
   "id": "566d9ef3-e368-41d4-9f46-e2064e92b4ae",
   "metadata": {},
   "outputs": [
    {
     "ename": "FileNotFoundError",
     "evalue": "[Errno 2] No such file or directory: 'E:/IDeaMaps/geojson/acc_urban_extent_2020.geojson'",
     "output_type": "error",
     "traceback": [
      "\u001b[1;31m---------------------------------------------------------------------------\u001b[0m",
      "\u001b[1;31mFileNotFoundError\u001b[0m                         Traceback (most recent call last)",
      "\u001b[1;32m<ipython-input-2-4af92af08b64>\u001b[0m in \u001b[0;36m<module>\u001b[1;34m\u001b[0m\n\u001b[0;32m      1\u001b[0m \u001b[1;31m# load regions\u001b[0m\u001b[1;33m\u001b[0m\u001b[1;33m\u001b[0m\u001b[1;33m\u001b[0m\u001b[0m\n\u001b[1;32m----> 2\u001b[1;33m \u001b[1;32mwith\u001b[0m \u001b[0mopen\u001b[0m\u001b[1;33m(\u001b[0m\u001b[1;34mr\"E:/IDeaMaps/geojson/acc_urban_extent_2020.geojson\"\u001b[0m\u001b[1;33m)\u001b[0m \u001b[1;32mas\u001b[0m \u001b[0minf\u001b[0m\u001b[1;33m:\u001b[0m\u001b[1;33m\u001b[0m\u001b[1;33m\u001b[0m\u001b[0m\n\u001b[0m\u001b[0;32m      3\u001b[0m     \u001b[0mregions_dict\u001b[0m \u001b[1;33m=\u001b[0m \u001b[0mjson\u001b[0m\u001b[1;33m.\u001b[0m\u001b[0mload\u001b[0m\u001b[1;33m(\u001b[0m\u001b[0minf\u001b[0m\u001b[1;33m)\u001b[0m\u001b[1;33m\u001b[0m\u001b[1;33m\u001b[0m\u001b[0m\n",
      "\u001b[1;31mFileNotFoundError\u001b[0m: [Errno 2] No such file or directory: 'E:/IDeaMaps/geojson/acc_urban_extent_2020.geojson'"
     ]
    }
   ],
   "source": [
    "# load regions\n",
    "with open(r\"E:/IDeaMaps/geojson/acc_urban_extent_2020.geojson\") as inf:\n",
    "    regions_dict = json.load(inf)"
   ]
  },
  {
   "cell_type": "code",
   "execution_count": null,
   "id": "b1a9606e-3e38-4496-8f2d-13f665afcf00",
   "metadata": {},
   "outputs": [],
   "source": [
    "# list of landuse tag to extract\n",
    "landuse_tags = []\n",
    "“landuse”, “leisure”, “natural”, “tourism”, and\n",
    "“waterway”"
   ]
  },
  {
   "cell_type": "code",
   "execution_count": null,
   "id": "5225c754-17ea-4e34-8921-87f3f8fae606",
   "metadata": {},
   "outputs": [],
   "source": [
    "URL = 'https://api.ohsome.org/v1/elements/geometry'\n",
    "data = {\n",
    "    \"bpolys\": json.dumps(regions_dict),\n",
    "    \"time\": \"2021-01-01\",\n",
    "    \"filter\": \"landuse=allotments\"\n",
    "}\n",
    "response = requests.post(URL, data=data)\n",
    "display(response)"
   ]
  },
  {
   "cell_type": "code",
   "execution_count": null,
   "id": "68e74b48-3f2b-409a-b8aa-7986925c9cce",
   "metadata": {},
   "outputs": [],
   "source": [
    "with open(\"E:/IDeaMaps/geojson/acc_allotments\", \"w\") as f:\n",
    "    json.dump(response.json(), f)"
   ]
  },
  {
   "cell_type": "code",
   "execution_count": null,
   "id": "e4768eb0-0054-4bb6-b3a8-035168310806",
   "metadata": {},
   "outputs": [],
   "source": []
  }
 ],
 "metadata": {
  "kernelspec": {
   "display_name": "Python 3 (ipykernel)",
   "language": "python",
   "name": "python3"
  },
  "language_info": {
   "codemirror_mode": {
    "name": "ipython",
    "version": 3
   },
   "file_extension": ".py",
   "mimetype": "text/x-python",
   "name": "python",
   "nbconvert_exporter": "python",
   "pygments_lexer": "ipython3",
   "version": "3.7.11"
  }
 },
 "nbformat": 4,
 "nbformat_minor": 5
}
